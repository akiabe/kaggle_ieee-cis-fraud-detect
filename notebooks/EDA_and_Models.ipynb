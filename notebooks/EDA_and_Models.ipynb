{
 "cells": [
  {
   "cell_type": "code",
   "execution_count": 56,
   "metadata": {
    "pycharm": {
     "name": "#%%\n"
    }
   },
   "outputs": [],
   "source": [
    "import warnings\n",
    "warnings.filterwarnings(\"ignore\")"
   ]
  },
  {
   "cell_type": "code",
   "execution_count": 57,
   "metadata": {},
   "outputs": [],
   "source": [
    "import pandas as pd"
   ]
  },
  {
   "cell_type": "code",
   "execution_count": 58,
   "metadata": {},
   "outputs": [
    {
     "data": {
      "text/html": [
       "<div>\n",
       "<style scoped>\n",
       "    .dataframe tbody tr th:only-of-type {\n",
       "        vertical-align: middle;\n",
       "    }\n",
       "\n",
       "    .dataframe tbody tr th {\n",
       "        vertical-align: top;\n",
       "    }\n",
       "\n",
       "    .dataframe thead th {\n",
       "        text-align: right;\n",
       "    }\n",
       "</style>\n",
       "<table border=\"1\" class=\"dataframe\">\n",
       "  <thead>\n",
       "    <tr style=\"text-align: right;\">\n",
       "      <th></th>\n",
       "      <th>TransactionID</th>\n",
       "      <th>id_01</th>\n",
       "      <th>id_02</th>\n",
       "      <th>id_03</th>\n",
       "      <th>id_04</th>\n",
       "      <th>id_05</th>\n",
       "      <th>id_06</th>\n",
       "      <th>id_07</th>\n",
       "      <th>id_08</th>\n",
       "      <th>id_09</th>\n",
       "      <th>...</th>\n",
       "      <th>id_31</th>\n",
       "      <th>id_32</th>\n",
       "      <th>id_33</th>\n",
       "      <th>id_34</th>\n",
       "      <th>id_35</th>\n",
       "      <th>id_36</th>\n",
       "      <th>id_37</th>\n",
       "      <th>id_38</th>\n",
       "      <th>DeviceType</th>\n",
       "      <th>DeviceInfo</th>\n",
       "    </tr>\n",
       "  </thead>\n",
       "  <tbody>\n",
       "    <tr>\n",
       "      <th>0</th>\n",
       "      <td>2987004</td>\n",
       "      <td>0.0</td>\n",
       "      <td>70787.0</td>\n",
       "      <td>NaN</td>\n",
       "      <td>NaN</td>\n",
       "      <td>NaN</td>\n",
       "      <td>NaN</td>\n",
       "      <td>NaN</td>\n",
       "      <td>NaN</td>\n",
       "      <td>NaN</td>\n",
       "      <td>...</td>\n",
       "      <td>samsung browser 6.2</td>\n",
       "      <td>32.0</td>\n",
       "      <td>2220x1080</td>\n",
       "      <td>match_status:2</td>\n",
       "      <td>T</td>\n",
       "      <td>F</td>\n",
       "      <td>T</td>\n",
       "      <td>T</td>\n",
       "      <td>mobile</td>\n",
       "      <td>SAMSUNG SM-G892A Build/NRD90M</td>\n",
       "    </tr>\n",
       "    <tr>\n",
       "      <th>1</th>\n",
       "      <td>2987008</td>\n",
       "      <td>-5.0</td>\n",
       "      <td>98945.0</td>\n",
       "      <td>NaN</td>\n",
       "      <td>NaN</td>\n",
       "      <td>0.0</td>\n",
       "      <td>-5.0</td>\n",
       "      <td>NaN</td>\n",
       "      <td>NaN</td>\n",
       "      <td>NaN</td>\n",
       "      <td>...</td>\n",
       "      <td>mobile safari 11.0</td>\n",
       "      <td>32.0</td>\n",
       "      <td>1334x750</td>\n",
       "      <td>match_status:1</td>\n",
       "      <td>T</td>\n",
       "      <td>F</td>\n",
       "      <td>F</td>\n",
       "      <td>T</td>\n",
       "      <td>mobile</td>\n",
       "      <td>iOS Device</td>\n",
       "    </tr>\n",
       "    <tr>\n",
       "      <th>2</th>\n",
       "      <td>2987010</td>\n",
       "      <td>-5.0</td>\n",
       "      <td>191631.0</td>\n",
       "      <td>0.0</td>\n",
       "      <td>0.0</td>\n",
       "      <td>0.0</td>\n",
       "      <td>0.0</td>\n",
       "      <td>NaN</td>\n",
       "      <td>NaN</td>\n",
       "      <td>0.0</td>\n",
       "      <td>...</td>\n",
       "      <td>chrome 62.0</td>\n",
       "      <td>NaN</td>\n",
       "      <td>NaN</td>\n",
       "      <td>NaN</td>\n",
       "      <td>F</td>\n",
       "      <td>F</td>\n",
       "      <td>T</td>\n",
       "      <td>T</td>\n",
       "      <td>desktop</td>\n",
       "      <td>Windows</td>\n",
       "    </tr>\n",
       "  </tbody>\n",
       "</table>\n",
       "<p>3 rows × 41 columns</p>\n",
       "</div>"
      ],
      "text/plain": [
       "   TransactionID  id_01     id_02  id_03  id_04  id_05  id_06  id_07  id_08  \\\n",
       "0        2987004    0.0   70787.0    NaN    NaN    NaN    NaN    NaN    NaN   \n",
       "1        2987008   -5.0   98945.0    NaN    NaN    0.0   -5.0    NaN    NaN   \n",
       "2        2987010   -5.0  191631.0    0.0    0.0    0.0    0.0    NaN    NaN   \n",
       "\n",
       "   id_09  ...                id_31  id_32      id_33           id_34  id_35  \\\n",
       "0    NaN  ...  samsung browser 6.2   32.0  2220x1080  match_status:2      T   \n",
       "1    NaN  ...   mobile safari 11.0   32.0   1334x750  match_status:1      T   \n",
       "2    0.0  ...          chrome 62.0    NaN        NaN             NaN      F   \n",
       "\n",
       "  id_36 id_37  id_38  DeviceType                     DeviceInfo  \n",
       "0     F     T      T      mobile  SAMSUNG SM-G892A Build/NRD90M  \n",
       "1     F     F      T      mobile                     iOS Device  \n",
       "2     F     T      T     desktop                        Windows  \n",
       "\n",
       "[3 rows x 41 columns]"
      ]
     },
     "execution_count": 58,
     "metadata": {},
     "output_type": "execute_result"
    }
   ],
   "source": [
    "train_identity = pd.read_csv(\"../input/train_identity.csv\")\n",
    "train_identity.head(3)"
   ]
  },
  {
   "cell_type": "code",
   "execution_count": 59,
   "metadata": {},
   "outputs": [
    {
     "data": {
      "text/html": [
       "<div>\n",
       "<style scoped>\n",
       "    .dataframe tbody tr th:only-of-type {\n",
       "        vertical-align: middle;\n",
       "    }\n",
       "\n",
       "    .dataframe tbody tr th {\n",
       "        vertical-align: top;\n",
       "    }\n",
       "\n",
       "    .dataframe thead th {\n",
       "        text-align: right;\n",
       "    }\n",
       "</style>\n",
       "<table border=\"1\" class=\"dataframe\">\n",
       "  <thead>\n",
       "    <tr style=\"text-align: right;\">\n",
       "      <th></th>\n",
       "      <th>TransactionID</th>\n",
       "      <th>isFraud</th>\n",
       "      <th>TransactionDT</th>\n",
       "      <th>TransactionAmt</th>\n",
       "      <th>ProductCD</th>\n",
       "      <th>card1</th>\n",
       "      <th>card2</th>\n",
       "      <th>card3</th>\n",
       "      <th>card4</th>\n",
       "      <th>card5</th>\n",
       "      <th>...</th>\n",
       "      <th>V330</th>\n",
       "      <th>V331</th>\n",
       "      <th>V332</th>\n",
       "      <th>V333</th>\n",
       "      <th>V334</th>\n",
       "      <th>V335</th>\n",
       "      <th>V336</th>\n",
       "      <th>V337</th>\n",
       "      <th>V338</th>\n",
       "      <th>V339</th>\n",
       "    </tr>\n",
       "  </thead>\n",
       "  <tbody>\n",
       "    <tr>\n",
       "      <th>0</th>\n",
       "      <td>2987000</td>\n",
       "      <td>0</td>\n",
       "      <td>86400</td>\n",
       "      <td>68.5</td>\n",
       "      <td>W</td>\n",
       "      <td>13926</td>\n",
       "      <td>NaN</td>\n",
       "      <td>150.0</td>\n",
       "      <td>discover</td>\n",
       "      <td>142.0</td>\n",
       "      <td>...</td>\n",
       "      <td>NaN</td>\n",
       "      <td>NaN</td>\n",
       "      <td>NaN</td>\n",
       "      <td>NaN</td>\n",
       "      <td>NaN</td>\n",
       "      <td>NaN</td>\n",
       "      <td>NaN</td>\n",
       "      <td>NaN</td>\n",
       "      <td>NaN</td>\n",
       "      <td>NaN</td>\n",
       "    </tr>\n",
       "    <tr>\n",
       "      <th>1</th>\n",
       "      <td>2987001</td>\n",
       "      <td>0</td>\n",
       "      <td>86401</td>\n",
       "      <td>29.0</td>\n",
       "      <td>W</td>\n",
       "      <td>2755</td>\n",
       "      <td>404.0</td>\n",
       "      <td>150.0</td>\n",
       "      <td>mastercard</td>\n",
       "      <td>102.0</td>\n",
       "      <td>...</td>\n",
       "      <td>NaN</td>\n",
       "      <td>NaN</td>\n",
       "      <td>NaN</td>\n",
       "      <td>NaN</td>\n",
       "      <td>NaN</td>\n",
       "      <td>NaN</td>\n",
       "      <td>NaN</td>\n",
       "      <td>NaN</td>\n",
       "      <td>NaN</td>\n",
       "      <td>NaN</td>\n",
       "    </tr>\n",
       "    <tr>\n",
       "      <th>2</th>\n",
       "      <td>2987002</td>\n",
       "      <td>0</td>\n",
       "      <td>86469</td>\n",
       "      <td>59.0</td>\n",
       "      <td>W</td>\n",
       "      <td>4663</td>\n",
       "      <td>490.0</td>\n",
       "      <td>150.0</td>\n",
       "      <td>visa</td>\n",
       "      <td>166.0</td>\n",
       "      <td>...</td>\n",
       "      <td>NaN</td>\n",
       "      <td>NaN</td>\n",
       "      <td>NaN</td>\n",
       "      <td>NaN</td>\n",
       "      <td>NaN</td>\n",
       "      <td>NaN</td>\n",
       "      <td>NaN</td>\n",
       "      <td>NaN</td>\n",
       "      <td>NaN</td>\n",
       "      <td>NaN</td>\n",
       "    </tr>\n",
       "  </tbody>\n",
       "</table>\n",
       "<p>3 rows × 394 columns</p>\n",
       "</div>"
      ],
      "text/plain": [
       "   TransactionID  isFraud  TransactionDT  TransactionAmt ProductCD  card1  \\\n",
       "0        2987000        0          86400            68.5         W  13926   \n",
       "1        2987001        0          86401            29.0         W   2755   \n",
       "2        2987002        0          86469            59.0         W   4663   \n",
       "\n",
       "   card2  card3       card4  card5  ... V330  V331  V332  V333  V334 V335  \\\n",
       "0    NaN  150.0    discover  142.0  ...  NaN   NaN   NaN   NaN   NaN  NaN   \n",
       "1  404.0  150.0  mastercard  102.0  ...  NaN   NaN   NaN   NaN   NaN  NaN   \n",
       "2  490.0  150.0        visa  166.0  ...  NaN   NaN   NaN   NaN   NaN  NaN   \n",
       "\n",
       "  V336  V337  V338  V339  \n",
       "0  NaN   NaN   NaN   NaN  \n",
       "1  NaN   NaN   NaN   NaN  \n",
       "2  NaN   NaN   NaN   NaN  \n",
       "\n",
       "[3 rows x 394 columns]"
      ]
     },
     "execution_count": 59,
     "metadata": {},
     "output_type": "execute_result"
    }
   ],
   "source": [
    "train_transaction = pd.read_csv(\"../input/train_transaction.csv\")\n",
    "train_transaction.head(3)"
   ]
  },
  {
   "cell_type": "code",
   "execution_count": 60,
   "metadata": {},
   "outputs": [],
   "source": [
    "test_identity = pd.read_csv(\"../input/test_identity.csv\")\n",
    "test_transaction = pd.read_csv(\"../input/test_transaction.csv\")\n",
    "sub = pd.read_csv(\"../input/sample_submission.csv\")"
   ]
  },
  {
   "cell_type": "code",
   "execution_count": 61,
   "metadata": {},
   "outputs": [
    {
     "data": {
      "text/html": [
       "<div>\n",
       "<style scoped>\n",
       "    .dataframe tbody tr th:only-of-type {\n",
       "        vertical-align: middle;\n",
       "    }\n",
       "\n",
       "    .dataframe tbody tr th {\n",
       "        vertical-align: top;\n",
       "    }\n",
       "\n",
       "    .dataframe thead th {\n",
       "        text-align: right;\n",
       "    }\n",
       "</style>\n",
       "<table border=\"1\" class=\"dataframe\">\n",
       "  <thead>\n",
       "    <tr style=\"text-align: right;\">\n",
       "      <th></th>\n",
       "      <th>TransactionID</th>\n",
       "      <th>id-01</th>\n",
       "      <th>id-02</th>\n",
       "      <th>id-03</th>\n",
       "      <th>id-04</th>\n",
       "      <th>id-05</th>\n",
       "      <th>id-06</th>\n",
       "      <th>id-07</th>\n",
       "      <th>id-08</th>\n",
       "      <th>id-09</th>\n",
       "      <th>...</th>\n",
       "      <th>id-31</th>\n",
       "      <th>id-32</th>\n",
       "      <th>id-33</th>\n",
       "      <th>id-34</th>\n",
       "      <th>id-35</th>\n",
       "      <th>id-36</th>\n",
       "      <th>id-37</th>\n",
       "      <th>id-38</th>\n",
       "      <th>DeviceType</th>\n",
       "      <th>DeviceInfo</th>\n",
       "    </tr>\n",
       "  </thead>\n",
       "  <tbody>\n",
       "    <tr>\n",
       "      <th>0</th>\n",
       "      <td>3663586</td>\n",
       "      <td>-45.0</td>\n",
       "      <td>280290.0</td>\n",
       "      <td>NaN</td>\n",
       "      <td>NaN</td>\n",
       "      <td>0.0</td>\n",
       "      <td>0.0</td>\n",
       "      <td>NaN</td>\n",
       "      <td>NaN</td>\n",
       "      <td>NaN</td>\n",
       "      <td>...</td>\n",
       "      <td>chrome 67.0 for android</td>\n",
       "      <td>NaN</td>\n",
       "      <td>NaN</td>\n",
       "      <td>NaN</td>\n",
       "      <td>F</td>\n",
       "      <td>F</td>\n",
       "      <td>T</td>\n",
       "      <td>F</td>\n",
       "      <td>mobile</td>\n",
       "      <td>MYA-L13 Build/HUAWEIMYA-L13</td>\n",
       "    </tr>\n",
       "    <tr>\n",
       "      <th>1</th>\n",
       "      <td>3663588</td>\n",
       "      <td>0.0</td>\n",
       "      <td>3579.0</td>\n",
       "      <td>0.0</td>\n",
       "      <td>0.0</td>\n",
       "      <td>0.0</td>\n",
       "      <td>0.0</td>\n",
       "      <td>NaN</td>\n",
       "      <td>NaN</td>\n",
       "      <td>0.0</td>\n",
       "      <td>...</td>\n",
       "      <td>chrome 67.0 for android</td>\n",
       "      <td>24.0</td>\n",
       "      <td>1280x720</td>\n",
       "      <td>match_status:2</td>\n",
       "      <td>T</td>\n",
       "      <td>F</td>\n",
       "      <td>T</td>\n",
       "      <td>T</td>\n",
       "      <td>mobile</td>\n",
       "      <td>LGLS676 Build/MXB48T</td>\n",
       "    </tr>\n",
       "    <tr>\n",
       "      <th>2</th>\n",
       "      <td>3663597</td>\n",
       "      <td>-5.0</td>\n",
       "      <td>185210.0</td>\n",
       "      <td>NaN</td>\n",
       "      <td>NaN</td>\n",
       "      <td>1.0</td>\n",
       "      <td>0.0</td>\n",
       "      <td>NaN</td>\n",
       "      <td>NaN</td>\n",
       "      <td>NaN</td>\n",
       "      <td>...</td>\n",
       "      <td>ie 11.0 for tablet</td>\n",
       "      <td>NaN</td>\n",
       "      <td>NaN</td>\n",
       "      <td>NaN</td>\n",
       "      <td>F</td>\n",
       "      <td>T</td>\n",
       "      <td>T</td>\n",
       "      <td>F</td>\n",
       "      <td>desktop</td>\n",
       "      <td>Trident/7.0</td>\n",
       "    </tr>\n",
       "  </tbody>\n",
       "</table>\n",
       "<p>3 rows × 41 columns</p>\n",
       "</div>"
      ],
      "text/plain": [
       "   TransactionID  id-01     id-02  id-03  id-04  id-05  id-06  id-07  id-08  \\\n",
       "0        3663586  -45.0  280290.0    NaN    NaN    0.0    0.0    NaN    NaN   \n",
       "1        3663588    0.0    3579.0    0.0    0.0    0.0    0.0    NaN    NaN   \n",
       "2        3663597   -5.0  185210.0    NaN    NaN    1.0    0.0    NaN    NaN   \n",
       "\n",
       "   id-09  ...                    id-31  id-32     id-33           id-34  \\\n",
       "0    NaN  ...  chrome 67.0 for android    NaN       NaN             NaN   \n",
       "1    0.0  ...  chrome 67.0 for android   24.0  1280x720  match_status:2   \n",
       "2    NaN  ...       ie 11.0 for tablet    NaN       NaN             NaN   \n",
       "\n",
       "   id-35 id-36 id-37  id-38  DeviceType                   DeviceInfo  \n",
       "0      F     F     T      F      mobile  MYA-L13 Build/HUAWEIMYA-L13  \n",
       "1      T     F     T      T      mobile         LGLS676 Build/MXB48T  \n",
       "2      F     T     T      F     desktop                  Trident/7.0  \n",
       "\n",
       "[3 rows x 41 columns]"
      ]
     },
     "execution_count": 61,
     "metadata": {},
     "output_type": "execute_result"
    }
   ],
   "source": [
    "test_identity.head(3)"
   ]
  },
  {
   "cell_type": "code",
   "execution_count": 102,
   "metadata": {},
   "outputs": [],
   "source": [
    "test_identity = test_identity.rename(\n",
    "    columns={\n",
    "        \"id-01\": \"id_01\",\n",
    "        \"id-02\": \"id_02\",\n",
    "        \"id-03\": \"id_03\",\n",
    "        \"id-04\": \"id_04\",\n",
    "        \"id-05\": \"id_05\",\n",
    "        \"id-06\": \"id_06\",\n",
    "        \"id-07\": \"id_07\",\n",
    "        \"id-08\": \"id_08\",\n",
    "        \"id-09\": \"id_09\",\n",
    "        \"id-10\": \"id_10\",\n",
    "        \"id-11\": \"id_11\",\n",
    "        \"id-12\": \"id_12\",\n",
    "        \"id-13\": \"id_13\",\n",
    "        \"id-14\": \"id_14\",\n",
    "        \"id-15\": \"id_15\",\n",
    "        \"id-16\": \"id_16\",\n",
    "        \"id-17\": \"id_17\",\n",
    "        \"id-18\": \"id_18\",\n",
    "        \"id-19\": \"id_19\",\n",
    "        \"id-20\": \"id_20\",\n",
    "        \"id-21\": \"id_21\",\n",
    "        \"id-22\": \"id_22\",\n",
    "        \"id-23\": \"id_23\",\n",
    "        \"id-24\": \"id_24\",\n",
    "        \"id-25\": \"id_25\",\n",
    "        \"id-26\": \"id_26\",\n",
    "        \"id-27\": \"id_27\",\n",
    "        \"id-28\": \"id_28\",\n",
    "        \"id-29\": \"id_29\",\n",
    "        \"id-30\": \"id_30\",\n",
    "        \"id-31\": \"id_31\",\n",
    "        \"id-32\": \"id_32\",\n",
    "        \"id-33\": \"id_33\",\n",
    "        \"id-34\": \"id_34\",\n",
    "        \"id-35\": \"id_35\",\n",
    "        \"id-36\": \"id_36\",\n",
    "        \"id-37\": \"id_37\",\n",
    "        \"id-38\": \"id_38\",    \n",
    "    }\n",
    ")"
   ]
  },
  {
   "cell_type": "code",
   "execution_count": 103,
   "metadata": {},
   "outputs": [
    {
     "name": "stdout",
     "output_type": "stream",
     "text": [
      "(590540, 434)\n"
     ]
    },
    {
     "data": {
      "text/html": [
       "<div>\n",
       "<style scoped>\n",
       "    .dataframe tbody tr th:only-of-type {\n",
       "        vertical-align: middle;\n",
       "    }\n",
       "\n",
       "    .dataframe tbody tr th {\n",
       "        vertical-align: top;\n",
       "    }\n",
       "\n",
       "    .dataframe thead th {\n",
       "        text-align: right;\n",
       "    }\n",
       "</style>\n",
       "<table border=\"1\" class=\"dataframe\">\n",
       "  <thead>\n",
       "    <tr style=\"text-align: right;\">\n",
       "      <th></th>\n",
       "      <th>TransactionID</th>\n",
       "      <th>isFraud</th>\n",
       "      <th>TransactionDT</th>\n",
       "      <th>TransactionAmt</th>\n",
       "      <th>ProductCD</th>\n",
       "      <th>card1</th>\n",
       "      <th>card2</th>\n",
       "      <th>card3</th>\n",
       "      <th>card4</th>\n",
       "      <th>card5</th>\n",
       "      <th>...</th>\n",
       "      <th>id_31</th>\n",
       "      <th>id_32</th>\n",
       "      <th>id_33</th>\n",
       "      <th>id_34</th>\n",
       "      <th>id_35</th>\n",
       "      <th>id_36</th>\n",
       "      <th>id_37</th>\n",
       "      <th>id_38</th>\n",
       "      <th>DeviceType</th>\n",
       "      <th>DeviceInfo</th>\n",
       "    </tr>\n",
       "  </thead>\n",
       "  <tbody>\n",
       "    <tr>\n",
       "      <th>0</th>\n",
       "      <td>2987000</td>\n",
       "      <td>0</td>\n",
       "      <td>86400</td>\n",
       "      <td>68.5</td>\n",
       "      <td>W</td>\n",
       "      <td>13926</td>\n",
       "      <td>NaN</td>\n",
       "      <td>150.0</td>\n",
       "      <td>discover</td>\n",
       "      <td>142.0</td>\n",
       "      <td>...</td>\n",
       "      <td>NaN</td>\n",
       "      <td>NaN</td>\n",
       "      <td>NaN</td>\n",
       "      <td>NaN</td>\n",
       "      <td>NaN</td>\n",
       "      <td>NaN</td>\n",
       "      <td>NaN</td>\n",
       "      <td>NaN</td>\n",
       "      <td>NaN</td>\n",
       "      <td>NaN</td>\n",
       "    </tr>\n",
       "    <tr>\n",
       "      <th>1</th>\n",
       "      <td>2987001</td>\n",
       "      <td>0</td>\n",
       "      <td>86401</td>\n",
       "      <td>29.0</td>\n",
       "      <td>W</td>\n",
       "      <td>2755</td>\n",
       "      <td>404.0</td>\n",
       "      <td>150.0</td>\n",
       "      <td>mastercard</td>\n",
       "      <td>102.0</td>\n",
       "      <td>...</td>\n",
       "      <td>NaN</td>\n",
       "      <td>NaN</td>\n",
       "      <td>NaN</td>\n",
       "      <td>NaN</td>\n",
       "      <td>NaN</td>\n",
       "      <td>NaN</td>\n",
       "      <td>NaN</td>\n",
       "      <td>NaN</td>\n",
       "      <td>NaN</td>\n",
       "      <td>NaN</td>\n",
       "    </tr>\n",
       "    <tr>\n",
       "      <th>2</th>\n",
       "      <td>2987002</td>\n",
       "      <td>0</td>\n",
       "      <td>86469</td>\n",
       "      <td>59.0</td>\n",
       "      <td>W</td>\n",
       "      <td>4663</td>\n",
       "      <td>490.0</td>\n",
       "      <td>150.0</td>\n",
       "      <td>visa</td>\n",
       "      <td>166.0</td>\n",
       "      <td>...</td>\n",
       "      <td>NaN</td>\n",
       "      <td>NaN</td>\n",
       "      <td>NaN</td>\n",
       "      <td>NaN</td>\n",
       "      <td>NaN</td>\n",
       "      <td>NaN</td>\n",
       "      <td>NaN</td>\n",
       "      <td>NaN</td>\n",
       "      <td>NaN</td>\n",
       "      <td>NaN</td>\n",
       "    </tr>\n",
       "  </tbody>\n",
       "</table>\n",
       "<p>3 rows × 434 columns</p>\n",
       "</div>"
      ],
      "text/plain": [
       "   TransactionID  isFraud  TransactionDT  TransactionAmt ProductCD  card1  \\\n",
       "0        2987000        0          86400            68.5         W  13926   \n",
       "1        2987001        0          86401            29.0         W   2755   \n",
       "2        2987002        0          86469            59.0         W   4663   \n",
       "\n",
       "   card2  card3       card4  card5  ... id_31  id_32  id_33  id_34  id_35  \\\n",
       "0    NaN  150.0    discover  142.0  ...   NaN    NaN    NaN    NaN    NaN   \n",
       "1  404.0  150.0  mastercard  102.0  ...   NaN    NaN    NaN    NaN    NaN   \n",
       "2  490.0  150.0        visa  166.0  ...   NaN    NaN    NaN    NaN    NaN   \n",
       "\n",
       "  id_36 id_37  id_38  DeviceType  DeviceInfo  \n",
       "0   NaN   NaN    NaN         NaN         NaN  \n",
       "1   NaN   NaN    NaN         NaN         NaN  \n",
       "2   NaN   NaN    NaN         NaN         NaN  \n",
       "\n",
       "[3 rows x 434 columns]"
      ]
     },
     "execution_count": 103,
     "metadata": {},
     "output_type": "execute_result"
    }
   ],
   "source": [
    "train = pd.merge(\n",
    "    train_transaction,\n",
    "    train_identity,\n",
    "    how=\"left\", \n",
    "    on=\"TransactionID\",\n",
    ")\n",
    "print(train.shape)\n",
    "train.head(3)"
   ]
  },
  {
   "cell_type": "code",
   "execution_count": 104,
   "metadata": {},
   "outputs": [
    {
     "name": "stdout",
     "output_type": "stream",
     "text": [
      "(506691, 433)\n"
     ]
    },
    {
     "data": {
      "text/html": [
       "<div>\n",
       "<style scoped>\n",
       "    .dataframe tbody tr th:only-of-type {\n",
       "        vertical-align: middle;\n",
       "    }\n",
       "\n",
       "    .dataframe tbody tr th {\n",
       "        vertical-align: top;\n",
       "    }\n",
       "\n",
       "    .dataframe thead th {\n",
       "        text-align: right;\n",
       "    }\n",
       "</style>\n",
       "<table border=\"1\" class=\"dataframe\">\n",
       "  <thead>\n",
       "    <tr style=\"text-align: right;\">\n",
       "      <th></th>\n",
       "      <th>TransactionID</th>\n",
       "      <th>TransactionDT</th>\n",
       "      <th>TransactionAmt</th>\n",
       "      <th>ProductCD</th>\n",
       "      <th>card1</th>\n",
       "      <th>card2</th>\n",
       "      <th>card3</th>\n",
       "      <th>card4</th>\n",
       "      <th>card5</th>\n",
       "      <th>card6</th>\n",
       "      <th>...</th>\n",
       "      <th>id_31</th>\n",
       "      <th>id_32</th>\n",
       "      <th>id_33</th>\n",
       "      <th>id_34</th>\n",
       "      <th>id_35</th>\n",
       "      <th>id_36</th>\n",
       "      <th>id_37</th>\n",
       "      <th>id_38</th>\n",
       "      <th>DeviceType</th>\n",
       "      <th>DeviceInfo</th>\n",
       "    </tr>\n",
       "  </thead>\n",
       "  <tbody>\n",
       "    <tr>\n",
       "      <th>0</th>\n",
       "      <td>3663549</td>\n",
       "      <td>18403224</td>\n",
       "      <td>31.95</td>\n",
       "      <td>W</td>\n",
       "      <td>10409</td>\n",
       "      <td>111.0</td>\n",
       "      <td>150.0</td>\n",
       "      <td>visa</td>\n",
       "      <td>226.0</td>\n",
       "      <td>debit</td>\n",
       "      <td>...</td>\n",
       "      <td>NaN</td>\n",
       "      <td>NaN</td>\n",
       "      <td>NaN</td>\n",
       "      <td>NaN</td>\n",
       "      <td>NaN</td>\n",
       "      <td>NaN</td>\n",
       "      <td>NaN</td>\n",
       "      <td>NaN</td>\n",
       "      <td>NaN</td>\n",
       "      <td>NaN</td>\n",
       "    </tr>\n",
       "    <tr>\n",
       "      <th>1</th>\n",
       "      <td>3663550</td>\n",
       "      <td>18403263</td>\n",
       "      <td>49.00</td>\n",
       "      <td>W</td>\n",
       "      <td>4272</td>\n",
       "      <td>111.0</td>\n",
       "      <td>150.0</td>\n",
       "      <td>visa</td>\n",
       "      <td>226.0</td>\n",
       "      <td>debit</td>\n",
       "      <td>...</td>\n",
       "      <td>NaN</td>\n",
       "      <td>NaN</td>\n",
       "      <td>NaN</td>\n",
       "      <td>NaN</td>\n",
       "      <td>NaN</td>\n",
       "      <td>NaN</td>\n",
       "      <td>NaN</td>\n",
       "      <td>NaN</td>\n",
       "      <td>NaN</td>\n",
       "      <td>NaN</td>\n",
       "    </tr>\n",
       "    <tr>\n",
       "      <th>2</th>\n",
       "      <td>3663551</td>\n",
       "      <td>18403310</td>\n",
       "      <td>171.00</td>\n",
       "      <td>W</td>\n",
       "      <td>4476</td>\n",
       "      <td>574.0</td>\n",
       "      <td>150.0</td>\n",
       "      <td>visa</td>\n",
       "      <td>226.0</td>\n",
       "      <td>debit</td>\n",
       "      <td>...</td>\n",
       "      <td>NaN</td>\n",
       "      <td>NaN</td>\n",
       "      <td>NaN</td>\n",
       "      <td>NaN</td>\n",
       "      <td>NaN</td>\n",
       "      <td>NaN</td>\n",
       "      <td>NaN</td>\n",
       "      <td>NaN</td>\n",
       "      <td>NaN</td>\n",
       "      <td>NaN</td>\n",
       "    </tr>\n",
       "  </tbody>\n",
       "</table>\n",
       "<p>3 rows × 433 columns</p>\n",
       "</div>"
      ],
      "text/plain": [
       "   TransactionID  TransactionDT  TransactionAmt ProductCD  card1  card2  \\\n",
       "0        3663549       18403224           31.95         W  10409  111.0   \n",
       "1        3663550       18403263           49.00         W   4272  111.0   \n",
       "2        3663551       18403310          171.00         W   4476  574.0   \n",
       "\n",
       "   card3 card4  card5  card6  ...  id_31  id_32  id_33  id_34 id_35 id_36  \\\n",
       "0  150.0  visa  226.0  debit  ...    NaN    NaN    NaN    NaN   NaN   NaN   \n",
       "1  150.0  visa  226.0  debit  ...    NaN    NaN    NaN    NaN   NaN   NaN   \n",
       "2  150.0  visa  226.0  debit  ...    NaN    NaN    NaN    NaN   NaN   NaN   \n",
       "\n",
       "   id_37  id_38  DeviceType  DeviceInfo  \n",
       "0    NaN    NaN         NaN         NaN  \n",
       "1    NaN    NaN         NaN         NaN  \n",
       "2    NaN    NaN         NaN         NaN  \n",
       "\n",
       "[3 rows x 433 columns]"
      ]
     },
     "execution_count": 104,
     "metadata": {},
     "output_type": "execute_result"
    }
   ],
   "source": [
    "test = pd.merge(\n",
    "    test_transaction,\n",
    "    test_identity,\n",
    "    how=\"left\",\n",
    "    on=\"TransactionID\",\n",
    ")\n",
    "print(test.shape)\n",
    "test.head(3)"
   ]
  },
  {
   "cell_type": "code",
   "execution_count": 105,
   "metadata": {},
   "outputs": [
    {
     "name": "stdout",
     "output_type": "stream",
     "text": [
      "115523073\n",
      "----------\n",
      "90186908\n"
     ]
    }
   ],
   "source": [
    "print(train.isnull().sum().sum())\n",
    "print(\"-\"*10)\n",
    "print(test.isnull().sum().sum())"
   ]
  },
  {
   "cell_type": "code",
   "execution_count": 106,
   "metadata": {},
   "outputs": [
    {
     "data": {
      "image/png": "[encoded data removed]",
      "text/plain": [
       "<Figure size 432x288 with 1 Axes>"
      ]
     },
     "metadata": {
      "needs_background": "light"
     },
     "output_type": "display_data"
    }
   ],
   "source": [
    "import seaborn as sns\n",
    "sns.distplot(train[\"id_01\"], kde=False);"
   ]
  },
  {
   "cell_type": "code",
   "execution_count": 107,
   "metadata": {},
   "outputs": [
    {
     "data": {
      "text/plain": [
       "NaN    0.887689\n",
       "0.0    0.108211\n",
       "1.0    0.001461\n",
       "3.0    0.001131\n",
       "2.0    0.000713\n",
       "Name: id_03, dtype: float64"
      ]
     },
     "execution_count": 107,
     "metadata": {},
     "output_type": "execute_result"
    }
   ],
   "source": [
    "train[\"id_03\"].value_counts(dropna=False, normalize=True).head()"
   ]
  },
  {
   "cell_type": "code",
   "execution_count": 108,
   "metadata": {},
   "outputs": [
    {
     "data": {
      "text/plain": [
       "NaN           0.761273\n",
       "100.000000    0.225492\n",
       "95.080002     0.002085\n",
       "95.160004     0.001277\n",
       "97.120003     0.000745\n",
       "Name: id_11, dtype: float64"
      ]
     },
     "execution_count": 108,
     "metadata": {},
     "output_type": "execute_result"
    }
   ],
   "source": [
    "train[\"id_11\"].value_counts(dropna=False, normalize=True).head()"
   ]
  },
  {
   "cell_type": "code",
   "execution_count": 109,
   "metadata": {},
   "outputs": [
    {
     "data": {
      "image/png": "[encoded data removed]",
      "text/plain": [
       "<Figure size 432x288 with 1 Axes>"
      ]
     },
     "metadata": {
      "needs_background": "light"
     },
     "output_type": "display_data"
    }
   ],
   "source": [
    "sns.distplot(train[\"id_07\"], kde=False);"
   ]
  },
  {
   "cell_type": "code",
   "execution_count": 110,
   "metadata": {},
   "outputs": [
    {
     "data": {
      "text/plain": [
       "NaN           0.868654\n",
       "Windows 10    0.035823\n",
       "Windows 7     0.022200\n",
       "iOS 11.2.1    0.006303\n",
       "iOS 11.1.2    0.006264\n",
       "Name: id_30, dtype: float64"
      ]
     },
     "execution_count": 110,
     "metadata": {},
     "output_type": "execute_result"
    }
   ],
   "source": [
    "train[\"id_30\"].value_counts(dropna=False, normalize=True).head()\n",
    "### add plot ###"
   ]
  },
  {
   "cell_type": "code",
   "execution_count": 111,
   "metadata": {},
   "outputs": [
    {
     "data": {
      "text/plain": [
       "NaN                      0.762451\n",
       "chrome 63.0              0.037254\n",
       "mobile safari 11.0       0.022730\n",
       "mobile safari generic    0.019430\n",
       "ie 11.0 for desktop      0.015291\n",
       "Name: id_31, dtype: float64"
      ]
     },
     "execution_count": 111,
     "metadata": {},
     "output_type": "execute_result"
    }
   ],
   "source": [
    "train[\"id_31\"].value_counts(dropna=False, normalize=True).head()\n",
    "### add plot ###"
   ]
  },
  {
   "cell_type": "code",
   "execution_count": 112,
   "metadata": {},
   "outputs": [
    {
     "data": {
      "text/plain": [
       "NaN          0.875895\n",
       "1920x1080    0.028574\n",
       "1366x768     0.014571\n",
       "1334x750     0.010917\n",
       "2208x1242    0.008297\n",
       "Name: id_33, dtype: float64"
      ]
     },
     "execution_count": 112,
     "metadata": {},
     "output_type": "execute_result"
    }
   ],
   "source": [
    "train[\"id_33\"].value_counts(dropna=False, normalize=True).head()\n",
    "### add plot ###"
   ]
  },
  {
   "cell_type": "code",
   "execution_count": 113,
   "metadata": {
    "pycharm": {
     "name": "#%%\n"
    }
   },
   "outputs": [
    {
     "data": {
      "image/png": "[encoded data removed]",
      "text/plain": [
       "<Figure size 432x288 with 1 Axes>"
      ]
     },
     "metadata": {
      "needs_background": "light"
     },
     "output_type": "display_data"
    }
   ],
   "source": [
    "sns.countplot(train[\"DeviceType\"]);"
   ]
  },
  {
   "cell_type": "code",
   "execution_count": 114,
   "metadata": {
    "pycharm": {
     "name": "#%%\n"
    }
   },
   "outputs": [
    {
     "data": {
      "text/plain": [
       "NaN            0.799055\n",
       "Windows        0.080811\n",
       "iOS Device     0.033498\n",
       "MacOS          0.021291\n",
       "Trident/7.0    0.012599\n",
       "Name: DeviceInfo, dtype: float64"
      ]
     },
     "execution_count": 114,
     "metadata": {},
     "output_type": "execute_result"
    }
   ],
   "source": [
    "train[\"DeviceInfo\"].value_counts(dropna=False, normalize=True).head()\n",
    "### add plot ###"
   ]
  },
  {
   "cell_type": "code",
   "execution_count": 115,
   "metadata": {
    "pycharm": {
     "name": "#%%\n"
    }
   },
   "outputs": [
    {
     "data": {
      "image/png": "[encoded data removed]",
      "text/plain": [
       "<Figure size 432x288 with 1 Axes>"
      ]
     },
     "metadata": {
      "needs_background": "light"
     },
     "output_type": "display_data"
    }
   ],
   "source": [
    "sns.distplot(train[\"TransactionDT\"], kde=False);\n",
    "sns.distplot(test[\"TransactionDT\"], kde=False);"
   ]
  },
  {
   "cell_type": "code",
   "execution_count": 116,
   "metadata": {
    "pycharm": {
     "name": "#%%\n"
    }
   },
   "outputs": [
    {
     "name": "stdout",
     "output_type": "stream",
     "text": [
      "W    0.744522\n",
      "C    0.116028\n",
      "R    0.063838\n",
      "H    0.055922\n",
      "S    0.019690\n",
      "Name: ProductCD, dtype: float64\n",
      "----------\n",
      "visa                0.651551\n",
      "mastercard          0.320414\n",
      "american express    0.014102\n",
      "discover            0.011263\n",
      "NaN                 0.002670\n",
      "Name: card4, dtype: float64\n",
      "----------\n",
      "debit              0.744976\n",
      "credit             0.252288\n",
      "NaN                0.002660\n",
      "debit or credit    0.000051\n",
      "charge card        0.000025\n",
      "Name: card6, dtype: float64\n",
      "----------\n",
      "NaN    0.476588\n",
      "M0     0.332585\n",
      "M2     0.101373\n",
      "M1     0.089454\n",
      "Name: M4, dtype: float64\n",
      "----------\n",
      "T      0.540886\n",
      "NaN    0.459071\n",
      "F      0.000042\n",
      "Name: M1, dtype: float64\n",
      "----------\n",
      "T      0.483402\n",
      "NaN    0.459071\n",
      "F      0.057527\n",
      "Name: M2, dtype: float64\n",
      "----------\n",
      "NaN    0.459071\n",
      "T      0.426273\n",
      "F      0.114656\n",
      "Name: M3, dtype: float64\n",
      "----------\n",
      "NaN    0.593494\n",
      "F      0.224356\n",
      "T      0.182150\n",
      "Name: M5, dtype: float64\n",
      "----------\n",
      "F      0.385843\n",
      "T      0.327368\n",
      "NaN    0.286788\n",
      "Name: M6, dtype: float64\n",
      "----------\n",
      "NaN    0.586353\n",
      "F      0.357933\n",
      "T      0.055713\n",
      "Name: M7, dtype: float64\n",
      "----------\n",
      "NaN    0.586331\n",
      "F      0.262897\n",
      "T      0.150772\n",
      "Name: M8, dtype: float64\n",
      "----------\n",
      "NaN    0.586331\n",
      "T      0.348251\n",
      "F      0.065418\n",
      "Name: M9, dtype: float64\n",
      "----------\n"
     ]
    }
   ],
   "source": [
    "for col in ['ProductCD', 'card4', 'card6', 'M4', 'M1', 'M2', 'M3', 'M5', 'M6', 'M7', 'M8', 'M9']:\n",
    "    print(train[col].value_counts(dropna=False, normalize=True).head())\n",
    "    print(\"-\"*10)"
   ]
  },
  {
   "cell_type": "code",
   "execution_count": 117,
   "metadata": {
    "pycharm": {
     "name": "#%%\n"
    }
   },
   "outputs": [
    {
     "name": "stdout",
     "output_type": "stream",
     "text": [
      "gmail.com        0.386688\n",
      "yahoo.com        0.170918\n",
      "NaN              0.159949\n",
      "hotmail.com      0.076625\n",
      "anonymous.com    0.062651\n",
      "Name: P_emaildomain, dtype: float64\n",
      "----------\n",
      "NaN              0.767516\n",
      "gmail.com        0.096771\n",
      "hotmail.com      0.046583\n",
      "anonymous.com    0.034763\n",
      "yahoo.com        0.020053\n",
      "Name: R_emaildomain, dtype: float64\n",
      "----------\n",
      "7919     0.025285\n",
      "9500     0.023981\n",
      "15885    0.017545\n",
      "17188    0.017516\n",
      "15066    0.013454\n",
      "Name: card1, dtype: float64\n",
      "----------\n",
      "321.0    0.082865\n",
      "111.0    0.076525\n",
      "555.0    0.071113\n",
      "490.0    0.064593\n",
      "583.0    0.036920\n",
      "Name: card2, dtype: float64\n",
      "----------\n",
      "150.0    0.882729\n",
      "185.0    0.095414\n",
      "106.0    0.002660\n",
      "NaN      0.002650\n",
      "146.0    0.002120\n",
      "Name: card3, dtype: float64\n",
      "----------\n",
      "226.0    0.502161\n",
      "224.0    0.138031\n",
      "166.0    0.096759\n",
      "102.0    0.049285\n",
      "117.0    0.043928\n",
      "Name: card5, dtype: float64\n",
      "----------\n",
      "NaN      0.111264\n",
      "299.0    0.078462\n",
      "325.0    0.072393\n",
      "204.0    0.071155\n",
      "264.0    0.067514\n",
      "Name: addr1, dtype: float64\n",
      "----------\n",
      "87.0    0.881365\n",
      "NaN     0.111264\n",
      "60.0    0.005222\n",
      "96.0    0.001080\n",
      "32.0    0.000154\n",
      "Name: addr2, dtype: float64\n",
      "----------\n"
     ]
    }
   ],
   "source": [
    "for col in ['P_emaildomain', 'R_emaildomain', 'card1', 'card2', 'card3',  'card5', 'addr1', 'addr2']:\n",
    "    print(train[col].value_counts(dropna=False, normalize=True).head())\n",
    "    print(\"-\"*10)"
   ]
  },
  {
   "cell_type": "code",
   "execution_count": 118,
   "metadata": {},
   "outputs": [
    {
     "data": {
      "text/plain": [
       "NaN            0.799055\n",
       "Windows        0.080811\n",
       "iOS Device     0.033498\n",
       "MacOS          0.021291\n",
       "Trident/7.0    0.012599\n",
       "Name: DeviceInfo, dtype: float64"
      ]
     },
     "execution_count": 118,
     "metadata": {},
     "output_type": "execute_result"
    }
   ],
   "source": [
    "train[\"DeviceInfo\"].value_counts(dropna=False, normalize=True).head()\n",
    "### add plot ###"
   ]
  },
  {
   "cell_type": "code",
   "execution_count": 119,
   "metadata": {},
   "outputs": [
    {
     "data": {
      "image/png": "[encoded data removed]",
      "text/plain": [
       "<Figure size 432x288 with 1 Axes>"
      ]
     },
     "metadata": {
      "needs_background": "light"
     },
     "output_type": "display_data"
    }
   ],
   "source": [
    "sns.distplot(train[\"TransactionDT\"], kde=False);\n",
    "sns.distplot(test[\"TransactionDT\"], kde=False);"
   ]
  },
  {
   "cell_type": "code",
   "execution_count": 120,
   "metadata": {},
   "outputs": [
    {
     "name": "stdout",
     "output_type": "stream",
     "text": [
      "W    0.744522\n",
      "C    0.116028\n",
      "R    0.063838\n",
      "H    0.055922\n",
      "S    0.019690\n",
      "Name: ProductCD, dtype: float64\n",
      "----------\n",
      "visa                0.651551\n",
      "mastercard          0.320414\n",
      "american express    0.014102\n",
      "discover            0.011263\n",
      "NaN                 0.002670\n",
      "Name: card4, dtype: float64\n",
      "----------\n",
      "debit              0.744976\n",
      "credit             0.252288\n",
      "NaN                0.002660\n",
      "debit or credit    0.000051\n",
      "charge card        0.000025\n",
      "Name: card6, dtype: float64\n",
      "----------\n",
      "NaN    0.476588\n",
      "M0     0.332585\n",
      "M2     0.101373\n",
      "M1     0.089454\n",
      "Name: M4, dtype: float64\n",
      "----------\n",
      "T      0.540886\n",
      "NaN    0.459071\n",
      "F      0.000042\n",
      "Name: M1, dtype: float64\n",
      "----------\n",
      "T      0.483402\n",
      "NaN    0.459071\n",
      "F      0.057527\n",
      "Name: M2, dtype: float64\n",
      "----------\n",
      "NaN    0.459071\n",
      "T      0.426273\n",
      "F      0.114656\n",
      "Name: M3, dtype: float64\n",
      "----------\n",
      "NaN    0.593494\n",
      "F      0.224356\n",
      "T      0.182150\n",
      "Name: M5, dtype: float64\n",
      "----------\n",
      "F      0.385843\n",
      "T      0.327368\n",
      "NaN    0.286788\n",
      "Name: M6, dtype: float64\n",
      "----------\n",
      "NaN    0.586353\n",
      "F      0.357933\n",
      "T      0.055713\n",
      "Name: M7, dtype: float64\n",
      "----------\n",
      "NaN    0.586331\n",
      "F      0.262897\n",
      "T      0.150772\n",
      "Name: M8, dtype: float64\n",
      "----------\n",
      "NaN    0.586331\n",
      "T      0.348251\n",
      "F      0.065418\n",
      "Name: M9, dtype: float64\n",
      "----------\n"
     ]
    }
   ],
   "source": [
    "for col in ['ProductCD', 'card4', 'card6', 'M4', 'M1', 'M2', 'M3', 'M5', 'M6', 'M7', 'M8', 'M9']:\n",
    "    print(train[col].value_counts(dropna=False, normalize=True).head())\n",
    "    print(\"-\"*10)"
   ]
  },
  {
   "cell_type": "code",
   "execution_count": 121,
   "metadata": {},
   "outputs": [
    {
     "name": "stdout",
     "output_type": "stream",
     "text": [
      "gmail.com        0.386688\n",
      "yahoo.com        0.170918\n",
      "NaN              0.159949\n",
      "hotmail.com      0.076625\n",
      "anonymous.com    0.062651\n",
      "Name: P_emaildomain, dtype: float64\n",
      "----------\n",
      "NaN              0.767516\n",
      "gmail.com        0.096771\n",
      "hotmail.com      0.046583\n",
      "anonymous.com    0.034763\n",
      "yahoo.com        0.020053\n",
      "Name: R_emaildomain, dtype: float64\n",
      "----------\n",
      "7919     0.025285\n",
      "9500     0.023981\n",
      "15885    0.017545\n",
      "17188    0.017516\n",
      "15066    0.013454\n",
      "Name: card1, dtype: float64\n",
      "----------\n",
      "321.0    0.082865\n",
      "111.0    0.076525\n",
      "555.0    0.071113\n",
      "490.0    0.064593\n",
      "583.0    0.036920\n",
      "Name: card2, dtype: float64\n",
      "----------\n",
      "150.0    0.882729\n",
      "185.0    0.095414\n",
      "106.0    0.002660\n",
      "NaN      0.002650\n",
      "146.0    0.002120\n",
      "Name: card3, dtype: float64\n",
      "----------\n",
      "226.0    0.502161\n",
      "224.0    0.138031\n",
      "166.0    0.096759\n",
      "102.0    0.049285\n",
      "117.0    0.043928\n",
      "Name: card5, dtype: float64\n",
      "----------\n",
      "NaN      0.111264\n",
      "299.0    0.078462\n",
      "325.0    0.072393\n",
      "204.0    0.071155\n",
      "264.0    0.067514\n",
      "Name: addr1, dtype: float64\n",
      "----------\n",
      "87.0    0.881365\n",
      "NaN     0.111264\n",
      "60.0    0.005222\n",
      "96.0    0.001080\n",
      "32.0    0.000154\n",
      "Name: addr2, dtype: float64\n",
      "----------\n"
     ]
    }
   ],
   "source": [
    "for col in ['P_emaildomain', 'R_emaildomain', 'card1', 'card2', 'card3',  'card5', 'addr1', 'addr2']:\n",
    "    print(train[col].value_counts(dropna=False, normalize=True).head())\n",
    "    print(\"-\"*10)"
   ]
  },
  {
   "cell_type": "code",
   "execution_count": 122,
   "metadata": {},
   "outputs": [],
   "source": [
    "train[\"TransactionAmt_to_mean_card1\"] = train[\"TransactionAmt\"] / train.groupby([\"card1\"])[\"TransactionAmt\"].transform(\"mean\")\n",
    "train[\"TransactionAmt_to_mean_card4\"] = train[\"TransactionAmt\"] / train.groupby([\"card4\"])[\"TransactionAmt\"].transform(\"mean\")\n",
    "test[\"TransactionAmt_to_mean_card1\"] = test[\"TransactionAmt\"] / test.groupby([\"card1\"])[\"TransactionAmt\"].transform(\"mean\")\n",
    "test[\"TransactionAmt_to_mean_card4\"] = test[\"TransactionAmt\"] / test.groupby([\"card4\"])[\"TransactionAmt\"].transform(\"mean\")\n",
    "\n",
    "train[\"TransactionAmt_to_std_card1\"] = train[\"TransactionAmt\"] / train.groupby([\"card1\"])[\"TransactionAmt\"].transform(\"std\")\n",
    "train[\"TransactionAmt_to_std_card4\"] = train[\"TransactionAmt\"] / train.groupby([\"card4\"])[\"TransactionAmt\"].transform(\"std\")\n",
    "test[\"TransactionAmt_to_std_card1\"] = test[\"TransactionAmt\"] / test.groupby([\"card1\"])[\"TransactionAmt\"].transform(\"std\")\n",
    "test[\"TransactionAmt_to_std_card4\"] = test[\"TransactionAmt\"] / test.groupby([\"card4\"])[\"TransactionAmt\"].transform(\"std\")\n"
   ]
  },
  {
   "cell_type": "code",
   "execution_count": 123,
   "metadata": {},
   "outputs": [],
   "source": [
    "train[\"D15_to_mean_card1\"] = train[\"D15\"] / train.groupby([\"card1\"])[\"D15\"].transform(\"mean\")\n",
    "train[\"D15_to_mean_card4\"] = train[\"D15\"] / train.groupby([\"card4\"])[\"D15\"].transform(\"mean\")\n",
    "test[\"D15_to_mean_card1\"] = test[\"D15\"] / test.groupby([\"card1\"])[\"D15\"].transform(\"mean\")\n",
    "test[\"D15_to_mean_card4\"] = test[\"D15\"] / test.groupby([\"card4\"])[\"D15\"].transform(\"mean\")\n",
    "\n",
    "train[\"D15_to_std_card1\"] = train[\"D15\"] / train.groupby([\"card1\"])[\"D15\"].transform(\"std\")\n",
    "train[\"D15_to_std_card4\"] = train[\"D15\"] / train.groupby([\"card4\"])[\"D15\"].transform(\"std\")\n",
    "test[\"D15_to_std_card1\"] = test[\"D15\"] / test.groupby([\"card1\"])[\"D15\"].transform(\"std\")\n",
    "test[\"D15_to_std_card4\"] = test[\"D15\"] / test.groupby([\"card4\"])[\"D15\"].transform(\"std\")\n",
    "\n",
    "train[\"D15_to_mean_addr1\"] = train[\"D15\"] / train.groupby([\"addr1\"])[\"D15\"].transform(\"mean\")\n",
    "train[\"D15_to_mean_addr2\"] = train[\"D15\"] / train.groupby([\"addr2\"])[\"D15\"].transform(\"mean\")\n",
    "test[\"D15_to_mean_addr1\"] = test[\"D15\"] / test.groupby([\"addr1\"])[\"D15\"].transform(\"mean\")\n",
    "test[\"D15_to_mean_addr2\"] = test[\"D15\"] / test.groupby([\"addr2\"])[\"D15\"].transform(\"mean\")\n",
    "\n",
    "train[\"D15_to_std_addr1\"] = train[\"D15\"] / train.groupby([\"addr1\"])[\"D15\"].transform(\"std\")\n",
    "train[\"D15_to_std_addr2\"] = train[\"D15\"] / train.groupby([\"addr2\"])[\"D15\"].transform(\"std\")\n",
    "test[\"D15_to_std_addr1\"] = test[\"D15\"] / test.groupby([\"addr1\"])[\"D15\"].transform(\"std\")\n",
    "test[\"D15_to_std_addr2\"] = test[\"D15\"] / test.groupby([\"addr2\"])[\"D15\"].transform(\"std\")\n"
   ]
  },
  {
   "cell_type": "code",
   "execution_count": 124,
   "metadata": {},
   "outputs": [],
   "source": [
    "train[\"id_02_to_mean_card1\"] = train[\"id_02\"] / train.groupby([\"card1\"])[\"id_02\"].transform(\"mean\")\n",
    "train[\"id_02_to_mean_card4\"] = train[\"id_02\"] / train.groupby([\"card4\"])[\"id_02\"].transform(\"mean\")\n",
    "train[\"id_02_to_std_card1\"] = train[\"id_02\"] / train.groupby([\"card1\"])[\"id_02\"].transform(\"std\")\n",
    "train[\"id_02_to_std_card4\"] = train[\"id_02\"] / train.groupby([\"card4\"])[\"id_02\"].transform(\"std\")\n",
    "\n",
    "test[\"id_02_to_mean_card1\"] = test[\"id_02\"] / test.groupby([\"card1\"])[\"id_02\"].transform(\"mean\")\n",
    "test[\"id_02_to_mean_card4\"] = test[\"id_02\"] / test.groupby([\"card4\"])[\"id_02\"].transform(\"mean\")\n",
    "test[\"id_02_to_std_card1\"] = test[\"id_02\"] / test.groupby([\"card1\"])[\"id_02\"].transform(\"std\")\n",
    "test[\"id_02_to_std_card4\"] = test[\"id_02\"] / test.groupby([\"card4\"])[\"id_02\"].transform(\"std\")\n"
   ]
  },
  {
   "cell_type": "code",
   "execution_count": 125,
   "metadata": {},
   "outputs": [],
   "source": [
    "train[[\"P_emaildomain_1\", \"P_emaildomain_2\", \"P_emaildomain_3\"]] = train[\"P_emaildomain\"].str.split(\".\", expand=True)\n",
    "train[[\"R_emaildomain_1\", \"R_emaildomain_2\", \"R_emaildomain_3\"]] = train[\"R_emaildomain\"].str.split(\".\", expand=True)\n",
    "\n",
    "test[[\"P_emaildomain_1\", \"P_emaildomain_2\", \"P_emaildomain_3\"]] = test[\"P_emaildomain\"].str.split(\".\", expand=True)\n",
    "test[[\"R_emaildomain_1\", \"R_emaildomain_2\", \"R_emaildomain_3\"]] = test[\"R_emaildomain\"].str.split(\".\", expand=True)\n"
   ]
  },
  {
   "cell_type": "code",
   "execution_count": 126,
   "metadata": {},
   "outputs": [],
   "source": [
    "many_null_cols_in_train = [col for col in train.columns if train[col].isnull().sum()/train.shape[0] > 0.9] \n",
    "many_null_cols_in_test = [col for col in test.columns if test[col].isnull().sum()/test.shape[0] > 0.9] \n"
   ]
  },
  {
   "cell_type": "code",
   "execution_count": 127,
   "metadata": {},
   "outputs": [],
   "source": [
    "big_top_val_cols_in_train = [col for col in train.columns if train[col].value_counts(dropna=False, normalize=True).values[0] > 0.9]\n",
    "big_top_val_cols_in_test = [col for col in test.columns if test[col].value_counts(dropna=False, normalize=True).values[0] > 0.9]\n"
   ]
  },
  {
   "cell_type": "code",
   "execution_count": 128,
   "metadata": {},
   "outputs": [],
   "source": [
    "cols_to_drop = list(set(many_null_cols_in_train + big_top_val_cols_in_train + many_null_cols_in_test + big_top_val_cols_in_test))\n",
    "cols_to_drop.remove(\"isFraud\")\n",
    "#cols_to_drop"
   ]
  },
  {
   "cell_type": "code",
   "execution_count": 129,
   "metadata": {},
   "outputs": [],
   "source": [
    "train = train.drop(cols_to_drop, axis=1)"
   ]
  },
  {
   "cell_type": "code",
   "execution_count": null,
   "outputs": [],
   "source": [
    "test = test.drop(cols_to_drop, axis=1)"
   ],
   "metadata": {
    "collapsed": false,
    "pycharm": {
     "name": "#%%\n"
    }
   }
  },
  {
   "cell_type": "code",
   "execution_count": null,
   "outputs": [],
   "source": [
    "train.to_csv(\"../input/train.csv\", index=False)\n",
    "test.to_csv(\"../input/test.csv\", index=False)"
   ],
   "metadata": {
    "collapsed": false,
    "pycharm": {
     "name": "#%%\n"
    }
   }
  },
  {
   "cell_type": "code",
   "execution_count": null,
   "outputs": [],
   "source": [
    "cat_cols = [\n",
    "    'id_12', \n",
    "    'id_13', \n",
    "    'id_14', \n",
    "    'id_15', \n",
    "    'id_16', \n",
    "    'id_17', \n",
    "    'id_18', \n",
    "    'id_19', \n",
    "    'id_20', \n",
    "    'id_21', \n",
    "    'id_22', \n",
    "    'id_23', \n",
    "    'id_24', \n",
    "    'id_25', \n",
    "    'id_26', \n",
    "    'id_27', \n",
    "    'id_28', \n",
    "    'id_29',        \n",
    "    'id_30', \n",
    "    'id_31', \n",
    "    'id_32', \n",
    "    'id_33', \n",
    "    'id_34', \n",
    "    'id_35', \n",
    "    'id_36', \n",
    "    'id_37', \n",
    "    'id_38', \n",
    "    'DeviceType', \n",
    "    'DeviceInfo', \n",
    "    'ProductCD', \n",
    "    'card4', \n",
    "    'card6', \n",
    "    'M4',\n",
    "    'P_emaildomain',\n",
    "    'R_emaildomain', \n",
    "    'card1', \n",
    "    'card2', \n",
    "    'card3',  \n",
    "    'card5', \n",
    "    'addr1', \n",
    "    'addr2', \n",
    "    'M1', \n",
    "    'M2', \n",
    "    'M3', \n",
    "    'M5', \n",
    "    'M6', \n",
    "    'M7', \n",
    "    'M8', \n",
    "    'M9',\n",
    "    'P_emaildomain_1', \n",
    "    'P_emaildomain_2', \n",
    "    'P_emaildomain_3', \n",
    "    'R_emaildomain_1', \n",
    "    'R_emaildomain_2', \n",
    "    'R_emaildomain_3'\n",
    "]"
   ],
   "metadata": {
    "collapsed": false,
    "pycharm": {
     "name": "#%%\n"
    }
   }
  },
  {
   "cell_type": "code",
   "execution_count": null,
   "outputs": [],
   "source": [
    "from sklearn import preprocessing\n",
    "\n",
    "for col in cat_cols:\n",
    "    if col in train.columns:\n",
    "        lbl_enc = preprocessing.LabelEncoder()\n",
    "        lbl_enc.fit(list(train[col].astype(str).values) + list(test[col].astype(str).values))\n",
    "        train[col] = lbl_enc.transform(list(train[col].astype(str).values))\n",
    "        test[col] = lbl_enc.transform(list(test[col].astype(str).values))"
   ],
   "metadata": {
    "collapsed": false,
    "pycharm": {
     "name": "#%%\n"
    }
   }
  },
  {
   "cell_type": "code",
   "execution_count": null,
   "outputs": [],
   "source": [
    "X_train = train.sort_values(\"TransactionDT\").drop([\"TransactionID\", \"isFraud\", \"TransactionDT\"], axis=1)\n",
    "y_train = train.sort_values(\"TransactionDT\")[\"isFraud\"]"
   ],
   "metadata": {
    "collapsed": false,
    "pycharm": {
     "name": "#%%\n"
    }
   }
  },
  {
   "cell_type": "code",
   "execution_count": null,
   "outputs": [],
   "source": [
    "X_test = test.drop([\"TransactionID\", \"TransactionDT\"], axis=1)"
   ],
   "metadata": {
    "collapsed": false,
    "pycharm": {
     "name": "#%%\n"
    }
   }
  },
  {
   "cell_type": "code",
   "execution_count": null,
   "outputs": [],
   "source": [
    "import numpy as np\n",
    "\n",
    "def clean_inf_val_to_nan(df):\n",
    "    return df.replace([np.inf, -np.inf], np.nan)\n",
    "\n",
    "X_train = clean_inf_val_to_nan(X_train)\n",
    "X_test = clean_inf_val_to_nan(X_test)"
   ],
   "metadata": {
    "collapsed": false,
    "pycharm": {
     "name": "#%%\n"
    }
   }
  },
  {
   "cell_type": "code",
   "execution_count": null,
   "outputs": [],
   "source": [
    "from sklearn import model_selection\n",
    "\n",
    "xtrain, xvalid, ytrain, yvalid = model_selection.train_test_split(\n",
    "    X_train,\n",
    "    y_train,\n",
    "    test_size=0.2,\n",
    "    random_state=42,\n",
    ")\n"
   ],
   "metadata": {
    "collapsed": false,
    "pycharm": {
     "name": "#%%\n"
    }
   }
  },
  {
   "cell_type": "code",
   "execution_count": null,
   "outputs": [],
   "source": [
    "import lightgbm as lgb\n",
    "from sklearn import metrics\n",
    "\n",
    "model = lgb.LGBMClassifier()\n",
    "model.fit(xtrain, ytrain)\n",
    "\n",
    "pred = model.predict(xvalid)\n",
    "\n",
    "accuracy = metrics.accuracy_score(yvalid, pred)\n",
    "print(f\"accuracy score={accuracy}%\")"
   ],
   "metadata": {
    "collapsed": false,
    "pycharm": {
     "name": "#%%\n"
    }
   }
  },
  {
   "cell_type": "code",
   "execution_count": null,
   "outputs": [],
   "source": [
    "import seaborn as sns\n",
    "import matplotlib.pyplot as plt\n",
    "\n",
    "importance = pd.DataFrame()\n",
    "importance[\"feature\"] = xtrain.columns\n",
    "importance[\"importance\"] = model.feature_importances_\n",
    "\n",
    "plt.figure(figsize=(20,10))\n",
    "sns.barplot(data=importance, x=\"importance\", y=\"feature\");\n",
    "plt.show()"
   ],
   "metadata": {
    "collapsed": false,
    "pycharm": {
     "name": "#%%\n"
    }
   }
  },
  {
   "cell_type": "code",
   "execution_count": 130,
   "metadata": {},
   "outputs": [],
   "source": []
  },
  {
   "cell_type": "code",
   "execution_count": 133,
   "metadata": {},
   "outputs": [],
   "source": [
    "train.to_csv(\"../input/train.csv\", index=False)\n",
    "test.to_csv(\"../input/test.csv\", index=False)"
   ]
  },
  {
   "cell_type": "code",
   "execution_count": 134,
   "metadata": {},
   "outputs": [],
   "source": [
    "cat_cols = [\n",
    "    'id_12', \n",
    "    'id_13', \n",
    "    'id_14', \n",
    "    'id_15', \n",
    "    'id_16', \n",
    "    'id_17', \n",
    "    'id_18', \n",
    "    'id_19', \n",
    "    'id_20', \n",
    "    'id_21', \n",
    "    'id_22', \n",
    "    'id_23', \n",
    "    'id_24', \n",
    "    'id_25', \n",
    "    'id_26', \n",
    "    'id_27', \n",
    "    'id_28', \n",
    "    'id_29',        \n",
    "    'id_30', \n",
    "    'id_31', \n",
    "    'id_32', \n",
    "    'id_33', \n",
    "    'id_34', \n",
    "    'id_35', \n",
    "    'id_36', \n",
    "    'id_37', \n",
    "    'id_38', \n",
    "    'DeviceType', \n",
    "    'DeviceInfo', \n",
    "    'ProductCD', \n",
    "    'card4', \n",
    "    'card6', \n",
    "    'M4',\n",
    "    'P_emaildomain',\n",
    "    'R_emaildomain', \n",
    "    'card1', \n",
    "    'card2', \n",
    "    'card3',  \n",
    "    'card5', \n",
    "    'addr1', \n",
    "    'addr2', \n",
    "    'M1', \n",
    "    'M2', \n",
    "    'M3', \n",
    "    'M5', \n",
    "    'M6', \n",
    "    'M7', \n",
    "    'M8', \n",
    "    'M9',\n",
    "    'P_emaildomain_1', \n",
    "    'P_emaildomain_2', \n",
    "    'P_emaildomain_3', \n",
    "    'R_emaildomain_1', \n",
    "    'R_emaildomain_2', \n",
    "    'R_emaildomain_3'\n",
    "]"
   ]
  },
  {
   "cell_type": "code",
   "execution_count": 138,
   "metadata": {},
   "outputs": [],
   "source": [
    "from sklearn import preprocessing\n",
    "\n",
    "for col in cat_cols:\n",
    "    if col in train.columns:\n",
    "        lbl_enc = preprocessing.LabelEncoder()\n",
    "        lbl_enc.fit(list(train[col].astype(str).values) + list(test[col].astype(str).values))\n",
    "        train[col] = lbl_enc.transform(list(train[col].astype(str).values))\n",
    "        test[col] = lbl_enc.transform(list(test[col].astype(str).values))"
   ]
  },
  {
   "cell_type": "code",
   "execution_count": 141,
   "metadata": {},
   "outputs": [],
   "source": [
    "X_train = train.sort_values(\"TransactionDT\").drop([\"TransactionID\", \"isFraud\", \"TransactionDT\"], axis=1)\n",
    "y_train = train.sort_values(\"TransactionDT\")[\"isFraud\"]"
   ]
  },
  {
   "cell_type": "code",
   "execution_count": 143,
   "metadata": {},
   "outputs": [],
   "source": [
    "X_test = test.drop([\"TransactionID\", \"TransactionDT\"], axis=1)"
   ]
  },
  {
   "cell_type": "code",
   "execution_count": 144,
   "metadata": {},
   "outputs": [],
   "source": [
    "import numpy as np\n",
    "\n",
    "def clean_inf_val_to_nan(df):\n",
    "    return df.replace([np.inf, -np.inf], np.nan)\n",
    "\n",
    "X_train = clean_inf_val_to_nan(X_train)\n",
    "X_test = clean_inf_val_to_nan(X_test)"
   ]
  },
  {
   "cell_type": "code",
   "execution_count": 146,
   "metadata": {},
   "outputs": [],
   "source": [
    "from sklearn import model_selection\n",
    "\n",
    "xtrain, xvalid, ytrain, yvalid = model_selection.train_test_split(\n",
    "    X_train,\n",
    "    y_train,\n",
    "    test_size=0.2,\n",
    "    random_state=42,\n",
    ")\n"
   ]
  },
  {
   "cell_type": "code",
   "execution_count": 150,
   "metadata": {},
   "outputs": [
    {
     "name": "stdout",
     "output_type": "stream",
     "text": [
      "accuracy score=0.9776983777559521%\n"
     ]
    }
   ],
   "source": [
    "import lightgbm as lgb\n",
    "from sklearn import metrics\n",
    "\n",
    "model = lgb.LGBMClassifier()\n",
    "model.fit(xtrain, ytrain)\n",
    "\n",
    "pred = model.predict(xvalid)\n",
    "\n",
    "accuracy = metrics.accuracy_score(yvalid, pred)\n",
    "print(f\"accuracy score={accuracy}%\")"
   ]
  },
  {
   "cell_type": "code",
   "execution_count": 158,
   "metadata": {},
   "outputs": [
    {
     "data": {
      "image/png": "[encoded data removed]",
      "text/plain": [
       "<Figure size 1440x720 with 1 Axes>"
      ]
     },
     "metadata": {
      "needs_background": "light"
     },
     "output_type": "display_data"
    }
   ],
   "source": [
    "import seaborn as sns\n",
    "import matplotlib.pyplot as plt\n",
    "\n",
    "importance = pd.DataFrame()\n",
    "importance[\"feature\"] = xtrain.columns\n",
    "importance[\"importance\"] = model.feature_importances_\n",
    "\n",
    "plt.figure(figsize=(20,10))\n",
    "sns.barplot(data=importance, x=\"importance\", y=\"feature\");\n",
    "plt.show()"
   ]
  },
  {
   "cell_type": "code",
   "execution_count": null,
   "metadata": {},
   "outputs": [],
   "source": []
  },
  {
   "cell_type": "code",
   "execution_count": null,
   "metadata": {},
   "outputs": [],
   "source": []
  },
  {
   "cell_type": "code",
   "execution_count": null,
   "metadata": {},
   "outputs": [],
   "source": []
  }
 ],
 "metadata": {
  "kernelspec": {
   "display_name": "Python 3",
   "language": "python",
   "name": "python3"
  },
  "language_info": {
   "codemirror_mode": {
    "name": "ipython",
    "version": 3
   },
   "file_extension": ".py",
   "mimetype": "text/x-python",
   "name": "python",
   "nbconvert_exporter": "python",
   "pygments_lexer": "ipython3",
   "version": "3.8.3"
  }
 },
 "nbformat": 4,
 "nbformat_minor": 1
}